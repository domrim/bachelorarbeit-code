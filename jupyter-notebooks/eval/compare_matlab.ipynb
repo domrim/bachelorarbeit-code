{
 "cells": [
  {
   "cell_type": "code",
   "execution_count": 1,
   "metadata": {},
   "outputs": [],
   "source": [
    "import numpy as np\n",
    "import matplotlib.pyplot as plt\n",
    "import tikzplotlib\n",
    "import subprocess\n",
    "import scipy.io as sio\n",
    "import os\n",
    "import time\n",
    "\n",
    "%run './../split_step_fourier.ipynb'\n",
    "DEBUG = False\n",
    "DEBUG_PLOT = False\n",
    "\n",
    "# showing figures inline\n",
    "%matplotlib inline\n",
    "# plotting options \n",
    "figure_size = (16, 9)\n",
    "plt.rcParams.update({\n",
    "    'font.family': 'serif',\n",
    "    'text.usetex': True,\n",
    "    'pgf.rcfonts': False,\n",
    "})"
   ]
  },
  {
   "cell_type": "code",
   "execution_count": 2,
   "metadata": {},
   "outputs": [],
   "source": [
    "# parameters\n",
    "f_symbol = 32e9  # symbol rate (Baud) (Symbols per second)\n",
    "n_up = 10  # samples per symbol (>1 => oversampling)\n",
    "\n",
    "r_rc = .33\n",
    "syms_per_filt = 4  # symbols per filter (plus minus in both directions)\n",
    "t_sample, ir = get_rc_ir(syms_per_filt, r_rc, f_symbol, n_up)\n",
    "\n",
    "P_in = 19 # dBm\n",
    "\n",
    "# modulation scheme and constellation points\n",
    "M = 2\n",
    "modulation = {'0': -1, '1': 1}\n",
    "n_symbol = 20 # number of symbols\n",
    "\n",
    "# Signalfolge generieren\n",
    "send_bits = np.random.choice([symbol for symbol in modulation.keys()], size=n_symbol)\n",
    "\n",
    "# Sendesignal generieren\n",
    "send_ir = generate_signal(modulation, t_sample, 1/f_symbol, send_bits, ir, syms_per_filt, P_in)\n",
    "\n",
    "# add zeros before and after signal (use samples per symbol as factor)\n",
    "send = add_zeros(send_ir, 10 * int(1/f_symbol/t_sample))"
   ]
  },
  {
   "cell_type": "code",
   "execution_count": 3,
   "metadata": {},
   "outputs": [],
   "source": [
    "## Transmission parameters\n",
    "z_length = 70  # [km]\n",
    "nz = 10  # steps\n",
    "dz = z_length / nz  # [km]\n",
    "\n",
    "alpha = 0.2  # Dämpfung [dB/km]\n",
    "D = 17  # [ps/nm/km]\n",
    "beta2 = - (D * np.square(1550e-9)) / (2 * np.pi * 3e8) * 1e-3 # [s^2/km] propagation constant, lambda=1550nm is standard single-mode wavelength\n",
    "gamma = 1.3 # [1/W/km]\n",
    "\n",
    "# export inputs to matlab\n",
    "sio.savemat('matlab/vars.mat', {'u0': send, 'dt': t_sample, 'dz': dz, 'nz': nz, 'alpha': alpha, 'betap': [0, 0, beta2], 'gamma': gamma})"
   ]
  },
  {
   "cell_type": "code",
   "execution_count": 4,
   "metadata": {},
   "outputs": [
    {
     "name": "stdout",
     "output_type": "stream",
     "text": [
      "Please execute matlab.sh in ./matlab\n"
     ]
    }
   ],
   "source": [
    "# simulate python-transmission\n",
    "start = time.time()\n",
    "output = splitstepfourier(send, t_sample, dz, nz, alpha, beta2, gamma)\n",
    "duration_python = (time.time() - start)\n",
    "# simulate matlab-transmission\n",
    "print(\"Please execute matlab.sh in ./matlab\")"
   ]
  },
  {
   "cell_type": "code",
   "execution_count": 5,
   "metadata": {},
   "outputs": [],
   "source": [
    "# load matlab output\n",
    "matlab = sio.loadmat('matlab/output.mat')\n",
    "output_matlab = matlab['u'].flatten()\n",
    "duration_matlab = matlab['duration'].flatten()[0]"
   ]
  },
  {
   "cell_type": "code",
   "execution_count": null,
   "metadata": {},
   "outputs": [
    {
     "name": "stdout",
     "output_type": "stream",
     "text": [
      "Relativer Fehler: 0.0008966883114341183\n",
      "Simulationsdauer Matlab: 0.180245 s\n",
      "Simulationsdauer Python: 0.0031545162200927734 s\n",
      "Python is 57.13871396568664 times faster than Matlab\n"
     ]
    }
   ],
   "source": [
    "fig1, ax1 = plt.subplots(2, figsize=figure_size)\n",
    "\n",
    "x_vals = np.arange(output.size)*t_sample\n",
    "ax1[0].plot(x_vals, np.square(np.abs(output)), linewidth=2.0, label='Python')\n",
    "ax1[0].plot(x_vals, np.square(np.abs(output_matlab)), linestyle=':', linewidth=2.0, label='Matlab')\n",
    "ax1[0].legend()\n",
    "ax1[0].set_xlim(np.amin(x_vals), np.amax(x_vals))\n",
    "\n",
    "ax1[1].plot(np.fft.fftshift(np.fft.fftfreq(len(output),t_sample)), np.fft.fftshift(np.square(abs(t_sample*np.fft.fft(output)/np.sqrt(2*np.pi)))), linewidth=2.0,  label='Python')\n",
    "ax1[1].plot(np.fft.fftshift(np.fft.fftfreq(len(output),t_sample)), np.fft.fftshift(np.square(abs(t_sample*np.fft.fft(output_matlab)/np.sqrt(2*np.pi)))), linestyle=':', linewidth=2.0, label='Matlab')\n",
    "ax1[1].legend()\n",
    "ax1[1].set_xlim(np.amin(np.fft.fftshift(np.fft.fftfreq(len(output),t_sample))), np.amax(np.fft.fftshift(np.fft.fftfreq(len(output),t_sample))))\n",
    "\n",
    "print(f\"Relativer Fehler: {calc_relerr(output, output_matlab)}\")\n",
    "print(f\"Simulationsdauer Matlab: {duration_matlab} s\")\n",
    "print(f\"Simulationsdauer Python: {duration_python} s\")\n",
    "print(f\"Python is {duration_matlab/duration_python} times faster than Matlab\")"
   ]
  },
  {
   "cell_type": "code",
   "execution_count": 7,
   "metadata": {},
   "outputs": [],
   "source": [
    "output_fname = \"compare_matlab\"\n",
    "output_path = \"../../../bachelorarbeit-ausarbeitung/figures/plots/\"\n",
    "\n",
    "tikzplotlib.save(f'{output_path}{output_fname}.tex', figure=fig1, wrap=False, add_axis_environment=False, externalize_tables=True, override_externals=True)\n",
    "\n",
    "fig1.savefig(f\"{output_path}{output_fname}.pdf\", bbox_inches='tight')"
   ]
  }
 ],
 "metadata": {
  "kernelspec": {
   "display_name": "Python 3",
   "language": "python",
   "name": "python3"
  },
  "language_info": {
   "codemirror_mode": {
    "name": "ipython",
    "version": 3
   },
   "file_extension": ".py",
   "mimetype": "text/x-python",
   "name": "python",
   "nbconvert_exporter": "python",
   "pygments_lexer": "ipython3",
   "version": "3.7.5"
  }
 },
 "nbformat": 4,
 "nbformat_minor": 4
}
