{
 "cells": [
  {
   "cell_type": "code",
   "execution_count": 1,
   "metadata": {},
   "outputs": [],
   "source": [
    "import numpy as np\n",
    "import matplotlib.pyplot as plt\n",
    "import tikzplotlib\n",
    "\n",
    "%run './../split_step_fourier.ipynb'\n",
    "DEBUG = False\n",
    "DEBUG_PLOT = False\n",
    "\n",
    "# showing figures inline\n",
    "%matplotlib inline\n",
    "# plotting options \n",
    "figure_size = (4, 3)\n",
    "plt.rcParams.update({\n",
    "    'font.family': 'serif',\n",
    "    'text.usetex': True,\n",
    "    'pgf.rcfonts': False,\n",
    "})"
   ]
  },
  {
   "cell_type": "code",
   "execution_count": 2,
   "metadata": {},
   "outputs": [],
   "source": [
    "# parameters\n",
    "f_symbol = 32e9  # symbol rate (Baud) (Symbols per second)\n",
    "n_up = 10  # samples per symbol (>1 => oversampling)\n",
    "\n",
    "r_rc = .33\n",
    "syms_per_filt = 4  # symbols per filter (plus minus in both directions)\n",
    "t_sample, ir = get_rc_ir(syms_per_filt, r_rc, f_symbol, n_up)\n",
    "\n",
    "P_in = 19 # dBm\n",
    "\n",
    "# modulation scheme and constellation points\n",
    "M = 2\n",
    "modulation = {'0': -1, '1': 1}\n",
    "n_symbol = 30 # number of symbols\n",
    "\n",
    "\n",
    "# Signalfolge generieren\n",
    "send_bits = np.random.choice([symbol for symbol in modulation.keys()], size=n_symbol)\n",
    "\n",
    "\n",
    "# Sendesignal generieren\n",
    "send_ir = generate_signal(modulation, t_sample, 1/f_symbol, send_bits, ir, syms_per_filt)\n",
    "\n",
    "# add zeros before and after signal (use samples per symbol as factor)\n",
    "send = zeroing(send_ir, 200 * int(1/f_symbol/t_sample))"
   ]
  },
  {
   "cell_type": "code",
   "execution_count": 3,
   "metadata": {},
   "outputs": [],
   "source": [
    "## Transmission parameters\n",
    "full_distance = 770\n",
    "\n",
    "z_length = 70  # [km]\n",
    "nz_max = 10  # steps\n",
    "\n",
    "alpha = 0  # Dämpfung [dB/km]\n",
    "D = 17  # [ps/nm/km]\n",
    "beta2 = - (D * np.square(1550e-9)) / (2 * np.pi * 3e8) * 1e-3 # [s^2/km] propagation constant, lambda=1550nm is standard single-mode wavelength\n",
    "gamma = 1.3 # [1/W/km]"
   ]
  },
  {
   "cell_type": "code",
   "execution_count": 4,
   "metadata": {},
   "outputs": [],
   "source": [
    "outputs = {}\n",
    "\n",
    "for nz in range(1,nz_max+1):\n",
    "    dz = z_length / nz  # [km]\n",
    "    if DEBUG:\n",
    "        print(f\"Steps per fiber-segment: {nz}\")\n",
    "        \n",
    "    # put an amplifier every z_length km in the fiber\n",
    "    next_input = amplifier(send, P_in, t_sample, 1/f_symbol)\n",
    "\n",
    "    for segment in range(int(full_distance / z_length)):\n",
    "        segment_output = splitstepfourier(next_input, t_sample, dz, nz, alpha, beta2, gamma)\n",
    "\n",
    "        if DEBUG:\n",
    "            print(f\"Segment {segment+1} output values: {segment_output}\")\n",
    "        if DEBUG_PLOT:\n",
    "            plt.plot(np.real(segment_output), label=\"Real\")\n",
    "            plt.plot(np.imag(segment_output), label=\"Imag\")\n",
    "            plt.legend()\n",
    "            plt.show()\n",
    "        \n",
    "        if full_distance%z_length == 0 and segment+1 == int(full_distance/z_length):\n",
    "            final_output = segment_output\n",
    "        else:\n",
    "            next_input = amplifier(segment_output, P_in, t_sample, 1/f_symbol)\n",
    "        \n",
    "    if full_distance % z_length != 0:\n",
    "        rest_z_length = full_distance % z_length\n",
    "        rest_dz = rest_z_length / nz\n",
    "        rest_output = splitstepfourier(next_input, t_sample, rest_dz, nz, alpha, beta2, gamma)\n",
    "        \n",
    "        if DEBUG:\n",
    "            print(f\"last Segment ({rest_z_length} km) output values: {rest_output}\")\n",
    "        if DEBUG_PLOT:\n",
    "            plt.plot(np.real(rest_output), label=\"Real\")\n",
    "            plt.plot(np.imag(rest_output), label=\"Imag\")\n",
    "            plt.legend()\n",
    "            plt.show()\n",
    "        \n",
    "        final_output = rest_output\n",
    "    \n",
    "    outputs[f'{nz}'] = final_output"
   ]
  },
  {
   "cell_type": "code",
   "execution_count": 5,
   "metadata": {},
   "outputs": [
    {
     "data": {
      "text/plain": [
       "<matplotlib.legend.Legend at 0x7f04f6166cd0>"
      ]
     },
     "execution_count": 5,
     "metadata": {},
     "output_type": "execute_result"
    },
    {
     "data": {
      "image/png": "[encoded data removed]",
      "text/plain": [
       "<Figure size 288x216 with 1 Axes>"
      ]
     },
     "metadata": {
      "needs_background": "light"
     },
     "output_type": "display_data"
    }
   ],
   "source": [
    "fig1, ax1 = plt.subplots(1, figsize=figure_size)\n",
    "\n",
    "for key, val in outputs.items():\n",
    "    ax1.plot(np.abs(val), label=key)\n",
    "    \n",
    "ax1.legend(title=\"Steps per fiber segment\")"
   ]
  },
  {
   "cell_type": "code",
   "execution_count": 6,
   "metadata": {},
   "outputs": [
    {
     "data": {
      "text/plain": [
       "(1, 10)"
      ]
     },
     "execution_count": 6,
     "metadata": {},
     "output_type": "execute_result"
    },
    {
     "data": {
      "image/png": "[encoded data removed]",
      "text/plain": [
       "<Figure size 288x216 with 1 Axes>"
      ]
     },
     "metadata": {
      "needs_background": "light"
     },
     "output_type": "display_data"
    }
   ],
   "source": [
    "ref = outputs[f'{nz_max}']\n",
    "\n",
    "errors = [calc_relerr(value, ref) for value in outputs.values()]\n",
    "x_vals = [int(x) for x in outputs.keys()]\n",
    "\n",
    "fig2, ax2 = plt.subplots(1, figsize=figure_size)\n",
    "\n",
    "ax2.plot(x_vals, errors)\n",
    "ax2.set_xlim(np.amin(x_vals), np.amax(x_vals))"
   ]
  },
  {
   "cell_type": "code",
   "execution_count": 7,
   "metadata": {},
   "outputs": [],
   "source": [
    "output_fname = \"long_distance_step_sweep\"\n",
    "output_path = \"../../../bachelorarbeit-ausarbeitung/figures/plots/\"\n",
    "\n",
    "tikzplotlib.save(f'{output_path}{output_fname}_outputs.tex', figure=fig1, figureheight=\"\\\\figheight\", figurewidth=\"\\\\figwidth\")\n",
    "tikzplotlib.save(f'{output_path}{output_fname}_error.tex', figure=fig2, figureheight=\"\\\\figheight\", figurewidth=\"\\\\figwidth\")\n",
    "\n",
    "fig1.savefig(f\"{output_path}{output_fname}_outputs.pdf\", bbox_inches='tight')\n",
    "fig2.savefig(f\"{output_path}{output_fname}_error.pdf\", bbox_inches='tight')"
   ]
  }
 ],
 "metadata": {
  "kernelspec": {
   "display_name": "Python 3",
   "language": "python",
   "name": "python3"
  },
  "language_info": {
   "codemirror_mode": {
    "name": "ipython",
    "version": 3
   },
   "file_extension": ".py",
   "mimetype": "text/x-python",
   "name": "python",
   "nbconvert_exporter": "python",
   "pygments_lexer": "ipython3",
   "version": "3.7.5"
  }
 },
 "nbformat": 4,
 "nbformat_minor": 4
}
